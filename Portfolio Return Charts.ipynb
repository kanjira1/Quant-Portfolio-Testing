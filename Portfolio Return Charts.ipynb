{
 "cells": [
  {
   "cell_type": "code",
   "execution_count": 1,
   "metadata": {},
   "outputs": [],
   "source": [
    "import pandas as pd\n",
    "import numpy as np\n",
    "import matplotlib.pyplot as plt\n",
    "import statsmodels.formula.api as smf\n",
    "import glob\n",
    "import seaborn as sns\n",
    "from matplotlib.ticker import PercentFormatter\n",
    "%matplotlib inline"
   ]
  },
  {
   "cell_type": "markdown",
   "metadata": {},
   "source": [
    "### Formatting Data"
   ]
  },
  {
   "cell_type": "code",
   "execution_count": 2,
   "metadata": {},
   "outputs": [
    {
     "data": {
      "text/html": [
       "<div>\n",
       "<style scoped>\n",
       "    .dataframe tbody tr th:only-of-type {\n",
       "        vertical-align: middle;\n",
       "    }\n",
       "\n",
       "    .dataframe tbody tr th {\n",
       "        vertical-align: top;\n",
       "    }\n",
       "\n",
       "    .dataframe thead th {\n",
       "        text-align: right;\n",
       "    }\n",
       "</style>\n",
       "<table border=\"1\" class=\"dataframe\">\n",
       "  <thead>\n",
       "    <tr style=\"text-align: right;\">\n",
       "      <th></th>\n",
       "      <th>Date</th>\n",
       "      <th>End Month</th>\n",
       "      <th>Long Port</th>\n",
       "      <th>Short Port</th>\n",
       "      <th>Total Port</th>\n",
       "      <th>S&amp;P</th>\n",
       "      <th>Long Alpha</th>\n",
       "      <th>Short Alpha</th>\n",
       "      <th>Total Alpha</th>\n",
       "    </tr>\n",
       "  </thead>\n",
       "  <tbody>\n",
       "    <tr>\n",
       "      <th>0</th>\n",
       "      <td>1/4/2019</td>\n",
       "      <td>Jan</td>\n",
       "      <td>0.1938</td>\n",
       "      <td>-0.2555</td>\n",
       "      <td>-0.0309</td>\n",
       "      <td>0.0690</td>\n",
       "      <td>0.1248</td>\n",
       "      <td>-0.3245</td>\n",
       "      <td>-0.0998</td>\n",
       "    </tr>\n",
       "    <tr>\n",
       "      <th>1</th>\n",
       "      <td>2/1/2019</td>\n",
       "      <td>Feb</td>\n",
       "      <td>0.0503</td>\n",
       "      <td>0.0009</td>\n",
       "      <td>0.0256</td>\n",
       "      <td>0.0359</td>\n",
       "      <td>0.0144</td>\n",
       "      <td>-0.0350</td>\n",
       "      <td>-0.0103</td>\n",
       "    </tr>\n",
       "    <tr>\n",
       "      <th>2</th>\n",
       "      <td>3/1/2019</td>\n",
       "      <td>Mar</td>\n",
       "      <td>-0.0424</td>\n",
       "      <td>0.1079</td>\n",
       "      <td>0.0328</td>\n",
       "      <td>0.0110</td>\n",
       "      <td>-0.0533</td>\n",
       "      <td>0.0970</td>\n",
       "      <td>0.0218</td>\n",
       "    </tr>\n",
       "    <tr>\n",
       "      <th>3</th>\n",
       "      <td>3/29/2019</td>\n",
       "      <td>Apr</td>\n",
       "      <td>-0.0432</td>\n",
       "      <td>0.0737</td>\n",
       "      <td>0.0153</td>\n",
       "      <td>0.0372</td>\n",
       "      <td>-0.0804</td>\n",
       "      <td>0.0365</td>\n",
       "      <td>-0.0220</td>\n",
       "    </tr>\n",
       "    <tr>\n",
       "      <th>4</th>\n",
       "      <td>4/26/2019</td>\n",
       "      <td>May</td>\n",
       "      <td>-0.0553</td>\n",
       "      <td>0.0770</td>\n",
       "      <td>0.0109</td>\n",
       "      <td>-0.0387</td>\n",
       "      <td>-0.0166</td>\n",
       "      <td>0.1158</td>\n",
       "      <td>0.0496</td>\n",
       "    </tr>\n",
       "    <tr>\n",
       "      <th>5</th>\n",
       "      <td>5/24/2019</td>\n",
       "      <td>Jun</td>\n",
       "      <td>-0.0058</td>\n",
       "      <td>-0.0353</td>\n",
       "      <td>-0.0205</td>\n",
       "      <td>0.0440</td>\n",
       "      <td>-0.0498</td>\n",
       "      <td>-0.0793</td>\n",
       "      <td>-0.0646</td>\n",
       "    </tr>\n",
       "    <tr>\n",
       "      <th>6</th>\n",
       "      <td>6/21/2019</td>\n",
       "      <td>Jul</td>\n",
       "      <td>0.0118</td>\n",
       "      <td>0.1293</td>\n",
       "      <td>0.0705</td>\n",
       "      <td>0.0089</td>\n",
       "      <td>0.0029</td>\n",
       "      <td>0.1204</td>\n",
       "      <td>0.0617</td>\n",
       "    </tr>\n",
       "    <tr>\n",
       "      <th>7</th>\n",
       "      <td>7/19/2019</td>\n",
       "      <td>Aug</td>\n",
       "      <td>-0.0849</td>\n",
       "      <td>0.0967</td>\n",
       "      <td>0.0059</td>\n",
       "      <td>-0.0295</td>\n",
       "      <td>-0.0554</td>\n",
       "      <td>0.1263</td>\n",
       "      <td>0.0354</td>\n",
       "    </tr>\n",
       "    <tr>\n",
       "      <th>8</th>\n",
       "      <td>8/16/2019</td>\n",
       "      <td>Sep</td>\n",
       "      <td>0.0625</td>\n",
       "      <td>-0.0651</td>\n",
       "      <td>-0.0013</td>\n",
       "      <td>0.0411</td>\n",
       "      <td>0.0214</td>\n",
       "      <td>-0.1062</td>\n",
       "      <td>-0.0424</td>\n",
       "    </tr>\n",
       "    <tr>\n",
       "      <th>9</th>\n",
       "      <td>9/13/2019</td>\n",
       "      <td>Oct</td>\n",
       "      <td>-0.0644</td>\n",
       "      <td>0.1884</td>\n",
       "      <td>0.0620</td>\n",
       "      <td>-0.0123</td>\n",
       "      <td>-0.0520</td>\n",
       "      <td>0.2007</td>\n",
       "      <td>0.0743</td>\n",
       "    </tr>\n",
       "    <tr>\n",
       "      <th>10</th>\n",
       "      <td>10/11/2019</td>\n",
       "      <td>Nov</td>\n",
       "      <td>0.1291</td>\n",
       "      <td>-0.0437</td>\n",
       "      <td>0.0427</td>\n",
       "      <td>0.0393</td>\n",
       "      <td>0.0898</td>\n",
       "      <td>-0.0830</td>\n",
       "      <td>0.0034</td>\n",
       "    </tr>\n",
       "    <tr>\n",
       "      <th>11</th>\n",
       "      <td>11/8/2019</td>\n",
       "      <td>Dec</td>\n",
       "      <td>0.0303</td>\n",
       "      <td>0.0082</td>\n",
       "      <td>0.0193</td>\n",
       "      <td>0.0191</td>\n",
       "      <td>0.0113</td>\n",
       "      <td>-0.0108</td>\n",
       "      <td>0.0002</td>\n",
       "    </tr>\n",
       "    <tr>\n",
       "      <th>12</th>\n",
       "      <td>NaN</td>\n",
       "      <td>Average</td>\n",
       "      <td>0.0152</td>\n",
       "      <td>0.0235</td>\n",
       "      <td>0.0194</td>\n",
       "      <td>0.0187</td>\n",
       "      <td>-0.0036</td>\n",
       "      <td>0.0048</td>\n",
       "      <td>0.0006</td>\n",
       "    </tr>\n",
       "    <tr>\n",
       "      <th>13</th>\n",
       "      <td>NaN</td>\n",
       "      <td>Avg (ex Jan)</td>\n",
       "      <td>-0.0011</td>\n",
       "      <td>0.0489</td>\n",
       "      <td>0.0239</td>\n",
       "      <td>0.0142</td>\n",
       "      <td>-0.0152</td>\n",
       "      <td>0.0347</td>\n",
       "      <td>0.0098</td>\n",
       "    </tr>\n",
       "  </tbody>\n",
       "</table>\n",
       "</div>"
      ],
      "text/plain": [
       "          Date     End Month  Long Port  Short Port  Total Port     S&P  \\\n",
       "0     1/4/2019           Jan     0.1938     -0.2555     -0.0309  0.0690   \n",
       "1     2/1/2019           Feb     0.0503      0.0009      0.0256  0.0359   \n",
       "2     3/1/2019           Mar    -0.0424      0.1079      0.0328  0.0110   \n",
       "3    3/29/2019           Apr    -0.0432      0.0737      0.0153  0.0372   \n",
       "4    4/26/2019           May    -0.0553      0.0770      0.0109 -0.0387   \n",
       "5    5/24/2019           Jun    -0.0058     -0.0353     -0.0205  0.0440   \n",
       "6    6/21/2019           Jul     0.0118      0.1293      0.0705  0.0089   \n",
       "7    7/19/2019           Aug    -0.0849      0.0967      0.0059 -0.0295   \n",
       "8    8/16/2019           Sep     0.0625     -0.0651     -0.0013  0.0411   \n",
       "9    9/13/2019           Oct    -0.0644      0.1884      0.0620 -0.0123   \n",
       "10  10/11/2019           Nov     0.1291     -0.0437      0.0427  0.0393   \n",
       "11   11/8/2019           Dec     0.0303      0.0082      0.0193  0.0191   \n",
       "12         NaN       Average     0.0152      0.0235      0.0194  0.0187   \n",
       "13         NaN  Avg (ex Jan)    -0.0011      0.0489      0.0239  0.0142   \n",
       "\n",
       "    Long Alpha  Short Alpha  Total Alpha  \n",
       "0       0.1248      -0.3245      -0.0998  \n",
       "1       0.0144      -0.0350      -0.0103  \n",
       "2      -0.0533       0.0970       0.0218  \n",
       "3      -0.0804       0.0365      -0.0220  \n",
       "4      -0.0166       0.1158       0.0496  \n",
       "5      -0.0498      -0.0793      -0.0646  \n",
       "6       0.0029       0.1204       0.0617  \n",
       "7      -0.0554       0.1263       0.0354  \n",
       "8       0.0214      -0.1062      -0.0424  \n",
       "9      -0.0520       0.2007       0.0743  \n",
       "10      0.0898      -0.0830       0.0034  \n",
       "11      0.0113      -0.0108       0.0002  \n",
       "12     -0.0036       0.0048       0.0006  \n",
       "13     -0.0152       0.0347       0.0098  "
      ]
     },
     "execution_count": 2,
     "metadata": {},
     "output_type": "execute_result"
    }
   ],
   "source": [
    "allport = pd.read_csv(r'All-Portfolio-Return.csv')\n",
    "exjan = pd.read_csv('Excluding-Jan.csv')\n",
    "injan = pd.read_csv('Including-Jan.csv')\n",
    "allport"
   ]
  },
  {
   "cell_type": "code",
   "execution_count": 3,
   "metadata": {},
   "outputs": [
    {
     "data": {
      "text/html": [
       "<div>\n",
       "<style scoped>\n",
       "    .dataframe tbody tr th:only-of-type {\n",
       "        vertical-align: middle;\n",
       "    }\n",
       "\n",
       "    .dataframe tbody tr th {\n",
       "        vertical-align: top;\n",
       "    }\n",
       "\n",
       "    .dataframe thead th {\n",
       "        text-align: right;\n",
       "    }\n",
       "</style>\n",
       "<table border=\"1\" class=\"dataframe\">\n",
       "  <thead>\n",
       "    <tr style=\"text-align: right;\">\n",
       "      <th></th>\n",
       "      <th>Date</th>\n",
       "      <th>End Month</th>\n",
       "      <th>Long Port</th>\n",
       "      <th>Short Port</th>\n",
       "      <th>Total Port</th>\n",
       "      <th>S&amp;P</th>\n",
       "      <th>Long Alpha</th>\n",
       "      <th>Short Alpha</th>\n",
       "      <th>Total Alpha</th>\n",
       "    </tr>\n",
       "  </thead>\n",
       "  <tbody>\n",
       "    <tr>\n",
       "      <th>0</th>\n",
       "      <td>1/4/2019</td>\n",
       "      <td>Jan</td>\n",
       "      <td>0.1938</td>\n",
       "      <td>-0.2555</td>\n",
       "      <td>-0.0309</td>\n",
       "      <td>0.0690</td>\n",
       "      <td>0.1248</td>\n",
       "      <td>-0.3245</td>\n",
       "      <td>-0.0998</td>\n",
       "    </tr>\n",
       "    <tr>\n",
       "      <th>1</th>\n",
       "      <td>2/1/2019</td>\n",
       "      <td>Feb</td>\n",
       "      <td>0.0503</td>\n",
       "      <td>0.0009</td>\n",
       "      <td>0.0256</td>\n",
       "      <td>0.0359</td>\n",
       "      <td>0.0144</td>\n",
       "      <td>-0.0350</td>\n",
       "      <td>-0.0103</td>\n",
       "    </tr>\n",
       "    <tr>\n",
       "      <th>2</th>\n",
       "      <td>3/1/2019</td>\n",
       "      <td>Mar</td>\n",
       "      <td>-0.0424</td>\n",
       "      <td>0.1079</td>\n",
       "      <td>0.0328</td>\n",
       "      <td>0.0110</td>\n",
       "      <td>-0.0533</td>\n",
       "      <td>0.0970</td>\n",
       "      <td>0.0218</td>\n",
       "    </tr>\n",
       "    <tr>\n",
       "      <th>3</th>\n",
       "      <td>3/29/2019</td>\n",
       "      <td>Apr</td>\n",
       "      <td>-0.0432</td>\n",
       "      <td>0.0737</td>\n",
       "      <td>0.0153</td>\n",
       "      <td>0.0372</td>\n",
       "      <td>-0.0804</td>\n",
       "      <td>0.0365</td>\n",
       "      <td>-0.0220</td>\n",
       "    </tr>\n",
       "    <tr>\n",
       "      <th>4</th>\n",
       "      <td>4/26/2019</td>\n",
       "      <td>May</td>\n",
       "      <td>-0.0553</td>\n",
       "      <td>0.0770</td>\n",
       "      <td>0.0109</td>\n",
       "      <td>-0.0387</td>\n",
       "      <td>-0.0166</td>\n",
       "      <td>0.1158</td>\n",
       "      <td>0.0496</td>\n",
       "    </tr>\n",
       "    <tr>\n",
       "      <th>5</th>\n",
       "      <td>5/24/2019</td>\n",
       "      <td>Jun</td>\n",
       "      <td>-0.0058</td>\n",
       "      <td>-0.0353</td>\n",
       "      <td>-0.0205</td>\n",
       "      <td>0.0440</td>\n",
       "      <td>-0.0498</td>\n",
       "      <td>-0.0793</td>\n",
       "      <td>-0.0646</td>\n",
       "    </tr>\n",
       "    <tr>\n",
       "      <th>6</th>\n",
       "      <td>6/21/2019</td>\n",
       "      <td>Jul</td>\n",
       "      <td>0.0118</td>\n",
       "      <td>0.1293</td>\n",
       "      <td>0.0705</td>\n",
       "      <td>0.0089</td>\n",
       "      <td>0.0029</td>\n",
       "      <td>0.1204</td>\n",
       "      <td>0.0617</td>\n",
       "    </tr>\n",
       "    <tr>\n",
       "      <th>7</th>\n",
       "      <td>7/19/2019</td>\n",
       "      <td>Aug</td>\n",
       "      <td>-0.0849</td>\n",
       "      <td>0.0967</td>\n",
       "      <td>0.0059</td>\n",
       "      <td>-0.0295</td>\n",
       "      <td>-0.0554</td>\n",
       "      <td>0.1263</td>\n",
       "      <td>0.0354</td>\n",
       "    </tr>\n",
       "    <tr>\n",
       "      <th>8</th>\n",
       "      <td>8/16/2019</td>\n",
       "      <td>Sep</td>\n",
       "      <td>0.0625</td>\n",
       "      <td>-0.0651</td>\n",
       "      <td>-0.0013</td>\n",
       "      <td>0.0411</td>\n",
       "      <td>0.0214</td>\n",
       "      <td>-0.1062</td>\n",
       "      <td>-0.0424</td>\n",
       "    </tr>\n",
       "    <tr>\n",
       "      <th>9</th>\n",
       "      <td>9/13/2019</td>\n",
       "      <td>Oct</td>\n",
       "      <td>-0.0644</td>\n",
       "      <td>0.1884</td>\n",
       "      <td>0.0620</td>\n",
       "      <td>-0.0123</td>\n",
       "      <td>-0.0520</td>\n",
       "      <td>0.2007</td>\n",
       "      <td>0.0743</td>\n",
       "    </tr>\n",
       "    <tr>\n",
       "      <th>10</th>\n",
       "      <td>10/11/2019</td>\n",
       "      <td>Nov</td>\n",
       "      <td>0.1291</td>\n",
       "      <td>-0.0437</td>\n",
       "      <td>0.0427</td>\n",
       "      <td>0.0393</td>\n",
       "      <td>0.0898</td>\n",
       "      <td>-0.0830</td>\n",
       "      <td>0.0034</td>\n",
       "    </tr>\n",
       "    <tr>\n",
       "      <th>11</th>\n",
       "      <td>11/8/2019</td>\n",
       "      <td>Dec</td>\n",
       "      <td>0.0303</td>\n",
       "      <td>0.0082</td>\n",
       "      <td>0.0193</td>\n",
       "      <td>0.0191</td>\n",
       "      <td>0.0113</td>\n",
       "      <td>-0.0108</td>\n",
       "      <td>0.0002</td>\n",
       "    </tr>\n",
       "  </tbody>\n",
       "</table>\n",
       "</div>"
      ],
      "text/plain": [
       "          Date End Month  Long Port  Short Port  Total Port     S&P  \\\n",
       "0     1/4/2019       Jan     0.1938     -0.2555     -0.0309  0.0690   \n",
       "1     2/1/2019       Feb     0.0503      0.0009      0.0256  0.0359   \n",
       "2     3/1/2019       Mar    -0.0424      0.1079      0.0328  0.0110   \n",
       "3    3/29/2019       Apr    -0.0432      0.0737      0.0153  0.0372   \n",
       "4    4/26/2019       May    -0.0553      0.0770      0.0109 -0.0387   \n",
       "5    5/24/2019       Jun    -0.0058     -0.0353     -0.0205  0.0440   \n",
       "6    6/21/2019       Jul     0.0118      0.1293      0.0705  0.0089   \n",
       "7    7/19/2019       Aug    -0.0849      0.0967      0.0059 -0.0295   \n",
       "8    8/16/2019       Sep     0.0625     -0.0651     -0.0013  0.0411   \n",
       "9    9/13/2019       Oct    -0.0644      0.1884      0.0620 -0.0123   \n",
       "10  10/11/2019       Nov     0.1291     -0.0437      0.0427  0.0393   \n",
       "11   11/8/2019       Dec     0.0303      0.0082      0.0193  0.0191   \n",
       "\n",
       "    Long Alpha  Short Alpha  Total Alpha  \n",
       "0       0.1248      -0.3245      -0.0998  \n",
       "1       0.0144      -0.0350      -0.0103  \n",
       "2      -0.0533       0.0970       0.0218  \n",
       "3      -0.0804       0.0365      -0.0220  \n",
       "4      -0.0166       0.1158       0.0496  \n",
       "5      -0.0498      -0.0793      -0.0646  \n",
       "6       0.0029       0.1204       0.0617  \n",
       "7      -0.0554       0.1263       0.0354  \n",
       "8       0.0214      -0.1062      -0.0424  \n",
       "9      -0.0520       0.2007       0.0743  \n",
       "10      0.0898      -0.0830       0.0034  \n",
       "11      0.0113      -0.0108       0.0002  "
      ]
     },
     "execution_count": 3,
     "metadata": {},
     "output_type": "execute_result"
    }
   ],
   "source": [
    "allport = allport.iloc[0:12]\n",
    "allport"
   ]
  },
  {
   "cell_type": "code",
   "execution_count": 4,
   "metadata": {},
   "outputs": [
    {
     "data": {
      "text/html": [
       "<div>\n",
       "<style scoped>\n",
       "    .dataframe tbody tr th:only-of-type {\n",
       "        vertical-align: middle;\n",
       "    }\n",
       "\n",
       "    .dataframe tbody tr th {\n",
       "        vertical-align: top;\n",
       "    }\n",
       "\n",
       "    .dataframe thead th {\n",
       "        text-align: right;\n",
       "    }\n",
       "</style>\n",
       "<table border=\"1\" class=\"dataframe\">\n",
       "  <thead>\n",
       "    <tr style=\"text-align: right;\">\n",
       "      <th></th>\n",
       "      <th>Long Portfolio Avg</th>\n",
       "      <th>Short Portfolio Avg</th>\n",
       "      <th>Total Portfolio Avg</th>\n",
       "      <th>S&amp;P500 Avg</th>\n",
       "    </tr>\n",
       "  </thead>\n",
       "  <tbody>\n",
       "    <tr>\n",
       "      <th>0</th>\n",
       "      <td>-0.0011</td>\n",
       "      <td>0.0489</td>\n",
       "      <td>0.0239</td>\n",
       "      <td>0.0142</td>\n",
       "    </tr>\n",
       "  </tbody>\n",
       "</table>\n",
       "</div>"
      ],
      "text/plain": [
       "   Long Portfolio Avg  Short Portfolio Avg  Total Portfolio Avg  S&P500 Avg\n",
       "0             -0.0011               0.0489               0.0239      0.0142"
      ]
     },
     "execution_count": 4,
     "metadata": {},
     "output_type": "execute_result"
    }
   ],
   "source": [
    "exjan"
   ]
  },
  {
   "cell_type": "code",
   "execution_count": 5,
   "metadata": {},
   "outputs": [
    {
     "data": {
      "text/html": [
       "<div>\n",
       "<style scoped>\n",
       "    .dataframe tbody tr th:only-of-type {\n",
       "        vertical-align: middle;\n",
       "    }\n",
       "\n",
       "    .dataframe tbody tr th {\n",
       "        vertical-align: top;\n",
       "    }\n",
       "\n",
       "    .dataframe thead th {\n",
       "        text-align: right;\n",
       "    }\n",
       "</style>\n",
       "<table border=\"1\" class=\"dataframe\">\n",
       "  <thead>\n",
       "    <tr style=\"text-align: right;\">\n",
       "      <th></th>\n",
       "      <th>Long Portfolio Avg</th>\n",
       "      <th>Short Portfolio Avg</th>\n",
       "      <th>Total Portfolio Avg</th>\n",
       "      <th>S&amp;P500 Avg</th>\n",
       "    </tr>\n",
       "  </thead>\n",
       "  <tbody>\n",
       "    <tr>\n",
       "      <th>0</th>\n",
       "      <td>0.015163</td>\n",
       "      <td>0.023544</td>\n",
       "      <td>0.019354</td>\n",
       "      <td>0.018732</td>\n",
       "    </tr>\n",
       "  </tbody>\n",
       "</table>\n",
       "</div>"
      ],
      "text/plain": [
       "   Long Portfolio Avg  Short Portfolio Avg  Total Portfolio Avg  S&P500 Avg\n",
       "0            0.015163             0.023544             0.019354    0.018732"
      ]
     },
     "execution_count": 5,
     "metadata": {},
     "output_type": "execute_result"
    }
   ],
   "source": [
    "injan"
   ]
  },
  {
   "cell_type": "code",
   "execution_count": 6,
   "metadata": {
    "scrolled": true
   },
   "outputs": [
    {
     "data": {
      "text/html": [
       "<div>\n",
       "<style scoped>\n",
       "    .dataframe tbody tr th:only-of-type {\n",
       "        vertical-align: middle;\n",
       "    }\n",
       "\n",
       "    .dataframe tbody tr th {\n",
       "        vertical-align: top;\n",
       "    }\n",
       "\n",
       "    .dataframe thead th {\n",
       "        text-align: right;\n",
       "    }\n",
       "</style>\n",
       "<table border=\"1\" class=\"dataframe\">\n",
       "  <thead>\n",
       "    <tr style=\"text-align: right;\">\n",
       "      <th></th>\n",
       "      <th>Date</th>\n",
       "      <th>End Month</th>\n",
       "      <th>Long Port</th>\n",
       "      <th>Short Port</th>\n",
       "      <th>Total Port</th>\n",
       "      <th>S&amp;P</th>\n",
       "      <th>Long Alpha</th>\n",
       "      <th>Short Alpha</th>\n",
       "      <th>Total Alpha</th>\n",
       "    </tr>\n",
       "  </thead>\n",
       "  <tbody>\n",
       "    <tr>\n",
       "      <th>1</th>\n",
       "      <td>2/1/2019</td>\n",
       "      <td>Feb</td>\n",
       "      <td>0.0503</td>\n",
       "      <td>0.0009</td>\n",
       "      <td>0.0256</td>\n",
       "      <td>0.0359</td>\n",
       "      <td>0.0144</td>\n",
       "      <td>-0.0350</td>\n",
       "      <td>-0.0103</td>\n",
       "    </tr>\n",
       "    <tr>\n",
       "      <th>2</th>\n",
       "      <td>3/1/2019</td>\n",
       "      <td>Mar</td>\n",
       "      <td>-0.0424</td>\n",
       "      <td>0.1079</td>\n",
       "      <td>0.0328</td>\n",
       "      <td>0.0110</td>\n",
       "      <td>-0.0533</td>\n",
       "      <td>0.0970</td>\n",
       "      <td>0.0218</td>\n",
       "    </tr>\n",
       "    <tr>\n",
       "      <th>3</th>\n",
       "      <td>3/29/2019</td>\n",
       "      <td>Apr</td>\n",
       "      <td>-0.0432</td>\n",
       "      <td>0.0737</td>\n",
       "      <td>0.0153</td>\n",
       "      <td>0.0372</td>\n",
       "      <td>-0.0804</td>\n",
       "      <td>0.0365</td>\n",
       "      <td>-0.0220</td>\n",
       "    </tr>\n",
       "    <tr>\n",
       "      <th>4</th>\n",
       "      <td>4/26/2019</td>\n",
       "      <td>May</td>\n",
       "      <td>-0.0553</td>\n",
       "      <td>0.0770</td>\n",
       "      <td>0.0109</td>\n",
       "      <td>-0.0387</td>\n",
       "      <td>-0.0166</td>\n",
       "      <td>0.1158</td>\n",
       "      <td>0.0496</td>\n",
       "    </tr>\n",
       "    <tr>\n",
       "      <th>5</th>\n",
       "      <td>5/24/2019</td>\n",
       "      <td>Jun</td>\n",
       "      <td>-0.0058</td>\n",
       "      <td>-0.0353</td>\n",
       "      <td>-0.0205</td>\n",
       "      <td>0.0440</td>\n",
       "      <td>-0.0498</td>\n",
       "      <td>-0.0793</td>\n",
       "      <td>-0.0646</td>\n",
       "    </tr>\n",
       "    <tr>\n",
       "      <th>6</th>\n",
       "      <td>6/21/2019</td>\n",
       "      <td>Jul</td>\n",
       "      <td>0.0118</td>\n",
       "      <td>0.1293</td>\n",
       "      <td>0.0705</td>\n",
       "      <td>0.0089</td>\n",
       "      <td>0.0029</td>\n",
       "      <td>0.1204</td>\n",
       "      <td>0.0617</td>\n",
       "    </tr>\n",
       "    <tr>\n",
       "      <th>7</th>\n",
       "      <td>7/19/2019</td>\n",
       "      <td>Aug</td>\n",
       "      <td>-0.0849</td>\n",
       "      <td>0.0967</td>\n",
       "      <td>0.0059</td>\n",
       "      <td>-0.0295</td>\n",
       "      <td>-0.0554</td>\n",
       "      <td>0.1263</td>\n",
       "      <td>0.0354</td>\n",
       "    </tr>\n",
       "    <tr>\n",
       "      <th>8</th>\n",
       "      <td>8/16/2019</td>\n",
       "      <td>Sep</td>\n",
       "      <td>0.0625</td>\n",
       "      <td>-0.0651</td>\n",
       "      <td>-0.0013</td>\n",
       "      <td>0.0411</td>\n",
       "      <td>0.0214</td>\n",
       "      <td>-0.1062</td>\n",
       "      <td>-0.0424</td>\n",
       "    </tr>\n",
       "    <tr>\n",
       "      <th>9</th>\n",
       "      <td>9/13/2019</td>\n",
       "      <td>Oct</td>\n",
       "      <td>-0.0644</td>\n",
       "      <td>0.1884</td>\n",
       "      <td>0.0620</td>\n",
       "      <td>-0.0123</td>\n",
       "      <td>-0.0520</td>\n",
       "      <td>0.2007</td>\n",
       "      <td>0.0743</td>\n",
       "    </tr>\n",
       "    <tr>\n",
       "      <th>10</th>\n",
       "      <td>10/11/2019</td>\n",
       "      <td>Nov</td>\n",
       "      <td>0.1291</td>\n",
       "      <td>-0.0437</td>\n",
       "      <td>0.0427</td>\n",
       "      <td>0.0393</td>\n",
       "      <td>0.0898</td>\n",
       "      <td>-0.0830</td>\n",
       "      <td>0.0034</td>\n",
       "    </tr>\n",
       "    <tr>\n",
       "      <th>11</th>\n",
       "      <td>11/8/2019</td>\n",
       "      <td>Dec</td>\n",
       "      <td>0.0303</td>\n",
       "      <td>0.0082</td>\n",
       "      <td>0.0193</td>\n",
       "      <td>0.0191</td>\n",
       "      <td>0.0113</td>\n",
       "      <td>-0.0108</td>\n",
       "      <td>0.0002</td>\n",
       "    </tr>\n",
       "  </tbody>\n",
       "</table>\n",
       "</div>"
      ],
      "text/plain": [
       "          Date End Month  Long Port  Short Port  Total Port     S&P  \\\n",
       "1     2/1/2019       Feb     0.0503      0.0009      0.0256  0.0359   \n",
       "2     3/1/2019       Mar    -0.0424      0.1079      0.0328  0.0110   \n",
       "3    3/29/2019       Apr    -0.0432      0.0737      0.0153  0.0372   \n",
       "4    4/26/2019       May    -0.0553      0.0770      0.0109 -0.0387   \n",
       "5    5/24/2019       Jun    -0.0058     -0.0353     -0.0205  0.0440   \n",
       "6    6/21/2019       Jul     0.0118      0.1293      0.0705  0.0089   \n",
       "7    7/19/2019       Aug    -0.0849      0.0967      0.0059 -0.0295   \n",
       "8    8/16/2019       Sep     0.0625     -0.0651     -0.0013  0.0411   \n",
       "9    9/13/2019       Oct    -0.0644      0.1884      0.0620 -0.0123   \n",
       "10  10/11/2019       Nov     0.1291     -0.0437      0.0427  0.0393   \n",
       "11   11/8/2019       Dec     0.0303      0.0082      0.0193  0.0191   \n",
       "\n",
       "    Long Alpha  Short Alpha  Total Alpha  \n",
       "1       0.0144      -0.0350      -0.0103  \n",
       "2      -0.0533       0.0970       0.0218  \n",
       "3      -0.0804       0.0365      -0.0220  \n",
       "4      -0.0166       0.1158       0.0496  \n",
       "5      -0.0498      -0.0793      -0.0646  \n",
       "6       0.0029       0.1204       0.0617  \n",
       "7      -0.0554       0.1263       0.0354  \n",
       "8       0.0214      -0.1062      -0.0424  \n",
       "9      -0.0520       0.2007       0.0743  \n",
       "10      0.0898      -0.0830       0.0034  \n",
       "11      0.0113      -0.0108       0.0002  "
      ]
     },
     "execution_count": 6,
     "metadata": {},
     "output_type": "execute_result"
    }
   ],
   "source": [
    "allportFeb = allport.iloc[1:12]\n",
    "allportFeb"
   ]
  },
  {
   "cell_type": "markdown",
   "metadata": {},
   "source": [
    "## Long and Short Including Jan"
   ]
  },
  {
   "cell_type": "code",
   "execution_count": 32,
   "metadata": {},
   "outputs": [
    {
     "data": {
      "text/plain": [
       "[Text(0, 0, '-10.00%'),\n",
       " Text(0, 0, '-5.00%'),\n",
       " Text(0, 0, '0.00%'),\n",
       " Text(0, 0, '5.00%'),\n",
       " Text(0, 0, '10.00%'),\n",
       " Text(0, 0, '15.00%'),\n",
       " Text(0, 0, '20.00%'),\n",
       " Text(0, 0, '25.00%')]"
      ]
     },
     "execution_count": 32,
     "metadata": {},
     "output_type": "execute_result"
    },
    {
     "data": {
      "text/plain": [
       "<Figure size 432x288 with 0 Axes>"
      ]
     },
     "metadata": {},
     "output_type": "display_data"
    },
    {
     "data": {
      "image/png": "[encoded data removed]",
      "text/plain": [
       "<Figure size 792x576 with 1 Axes>"
      ]
     },
     "metadata": {
      "needs_background": "light"
     },
     "output_type": "display_data"
    }
   ],
   "source": [
    "janlong = allport[['End Month', 'Long Port','S&P']]\n",
    "janlong.set_index('End Month',inplace=True)\n",
    "\n",
    "fig = plt.figure() # initiate the figure environment\n",
    "\n",
    "ax = janlong.plot.bar(figsize=(11,8), color = \"gk\")\n",
    "plt.axhline(y= 0 , color='k', linestyle='-.', alpha=.5)\n",
    "plt.axhline(y= 0.0152 , color='g', linestyle='--', alpha=.5, label = 'Long Port Avg')\n",
    "plt.axhline(y= 0.0187 , color='k', linestyle='--', alpha=.5, label = 'S&P Avg')\n",
    "plt.ylabel('Returns %')\n",
    "plt.xlabel('Closing Date of each Portfolio')\n",
    "plt.title('Long Return of Portfolio Vs. S&P Index Returns')\n",
    "plt.legend()\n",
    "vals = ax.get_yticks()\n",
    "ax.set_yticklabels(['{:,.2%}'.format(x) for x in vals])"
   ]
  },
  {
   "cell_type": "code",
   "execution_count": 8,
   "metadata": {},
   "outputs": [
    {
     "data": {
      "text/plain": [
       "[Text(0, 0, '-30.00%'),\n",
       " Text(0, 0, '-20.00%'),\n",
       " Text(0, 0, '-10.00%'),\n",
       " Text(0, 0, '0.00%'),\n",
       " Text(0, 0, '10.00%'),\n",
       " Text(0, 0, '20.00%'),\n",
       " Text(0, 0, '30.00%')]"
      ]
     },
     "execution_count": 8,
     "metadata": {},
     "output_type": "execute_result"
    },
    {
     "data": {
      "text/plain": [
       "<Figure size 432x288 with 0 Axes>"
      ]
     },
     "metadata": {},
     "output_type": "display_data"
    },
    {
     "data": {
      "image/png": "[encoded data removed]",
      "text/plain": [
       "<Figure size 792x576 with 1 Axes>"
      ]
     },
     "metadata": {
      "needs_background": "light"
     },
     "output_type": "display_data"
    }
   ],
   "source": [
    "janshort = allport[['End Month', 'Short Port', 'S&P']]\n",
    "janshort.set_index('End Month',inplace=True)\n",
    "\n",
    "fig = plt.figure() # initiate the figure environment\n",
    "ax = janshort.plot.bar(figsize=(11,8), color='bk', label = True)\n",
    "plt.axhline(y= 0 , color='k', linestyle='-.', alpha=.5)\n",
    "plt.axhline(y= 0.0235 , color='b', linestyle='--', alpha=.5, label = 'Short Port Avg')\n",
    "plt.axhline(y= 0.0187 , color='k', linestyle='--', alpha=.5, label = 'S&P Avg')\n",
    "plt.ylabel('Returns %')\n",
    "plt.xlabel('Closing Date of each Portfolio')\n",
    "plt.title('Short Portfolio Return Vs. S&P Index Returns')\n",
    "plt.legend()\n",
    "vals = ax.get_yticks()\n",
    "ax.set_yticklabels(['{:,.2%}'.format(x) for x in vals])"
   ]
  },
  {
   "cell_type": "code",
   "execution_count": 9,
   "metadata": {},
   "outputs": [
    {
     "data": {
      "text/plain": [
       "[Text(0, 0, '-6.00%'),\n",
       " Text(0, 0, '-4.00%'),\n",
       " Text(0, 0, '-2.00%'),\n",
       " Text(0, 0, '0.00%'),\n",
       " Text(0, 0, '2.00%'),\n",
       " Text(0, 0, '4.00%'),\n",
       " Text(0, 0, '6.00%'),\n",
       " Text(0, 0, '8.00%')]"
      ]
     },
     "execution_count": 9,
     "metadata": {},
     "output_type": "execute_result"
    },
    {
     "data": {
      "text/plain": [
       "<Figure size 432x288 with 0 Axes>"
      ]
     },
     "metadata": {},
     "output_type": "display_data"
    },
    {
     "data": {
      "image/png": "[encoded data removed]",
      "text/plain": [
       "<Figure size 792x576 with 1 Axes>"
      ]
     },
     "metadata": {
      "needs_background": "light"
     },
     "output_type": "display_data"
    }
   ],
   "source": [
    "jancombined = allport[['End Month', 'Total Port', 'S&P']]\n",
    "jancombined.set_index('End Month',inplace=True)\n",
    "\n",
    "fig = plt.figure() # initiate the figure environment\n",
    "\n",
    "ax = jancombined.plot.bar(figsize=(11,8), color = 'rk')\n",
    "plt.axhline(y= 0 , color='k', linestyle='-.', alpha=.5)\n",
    "plt.axhline(y= 0.0194 , color='r', linestyle='--', alpha=.5, label = 'Total Port Avg')\n",
    "plt.axhline(y= 0.0187 , color='k', linestyle='--', alpha=.5, label = 'S&P Avg')\n",
    "plt.ylabel('Returns %')\n",
    "plt.xlabel('Closing Date of each Portfolio')\n",
    "plt.title('Combined Portfolio Return Vs. S&P Index Returns')\n",
    "plt.legend()\n",
    "vals = ax.get_yticks()\n",
    "ax.set_yticklabels(['{:,.2%}'.format(x) for x in vals])"
   ]
  },
  {
   "cell_type": "markdown",
   "metadata": {},
   "source": [
    "## Long and SHort Excluding Jan"
   ]
  },
  {
   "cell_type": "code",
   "execution_count": 33,
   "metadata": {},
   "outputs": [
    {
     "data": {
      "text/plain": [
       "[Text(0, 0, '-10.00%'),\n",
       " Text(0, 0, '-5.00%'),\n",
       " Text(0, 0, '0.00%'),\n",
       " Text(0, 0, '5.00%'),\n",
       " Text(0, 0, '10.00%'),\n",
       " Text(0, 0, '15.00%')]"
      ]
     },
     "execution_count": 33,
     "metadata": {},
     "output_type": "execute_result"
    },
    {
     "data": {
      "text/plain": [
       "<Figure size 432x288 with 0 Axes>"
      ]
     },
     "metadata": {},
     "output_type": "display_data"
    },
    {
     "data": {
      "image/png": "[encoded data removed]",
      "text/plain": [
       "<Figure size 792x576 with 1 Axes>"
      ]
     },
     "metadata": {
      "needs_background": "light"
     },
     "output_type": "display_data"
    }
   ],
   "source": [
    "feblong = allportFeb[['End Month', 'Long Port', 'S&P']]\n",
    "feblong.set_index('End Month',inplace=True)\n",
    "\n",
    "fig = plt.figure() # initiate the figure environment\n",
    "\n",
    "ax = feblong.plot.bar(figsize=(11,8), color = \"gk\")\n",
    "plt.axhline(y= 0 , color='k', linestyle='-.', alpha=.5)\n",
    "plt.axhline(y= -0.0011 , color='g', linestyle='--', alpha=.5, label = 'Long Port Avg')\n",
    "plt.axhline(y= 0.0142 , color='k', linestyle='--', alpha=.5, label = 'S&P Avg')\n",
    "plt.ylabel('Returns %')\n",
    "plt.xlabel('Closing Date of each Portfolio')\n",
    "plt.title('Excluding Jan Long Portfolio Return Vs. S&P Index Returns')\n",
    "plt.legend()\n",
    "vals = ax.get_yticks()\n",
    "ax.set_yticklabels(['{:,.2%}'.format(x) for x in vals])"
   ]
  },
  {
   "cell_type": "code",
   "execution_count": 30,
   "metadata": {},
   "outputs": [
    {
     "data": {
      "text/plain": [
       "[Text(0, 0, '-10.00%'),\n",
       " Text(0, 0, '-5.00%'),\n",
       " Text(0, 0, '0.00%'),\n",
       " Text(0, 0, '5.00%'),\n",
       " Text(0, 0, '10.00%'),\n",
       " Text(0, 0, '15.00%'),\n",
       " Text(0, 0, '20.00%'),\n",
       " Text(0, 0, '25.00%')]"
      ]
     },
     "execution_count": 30,
     "metadata": {},
     "output_type": "execute_result"
    },
    {
     "data": {
      "text/plain": [
       "<Figure size 432x288 with 0 Axes>"
      ]
     },
     "metadata": {},
     "output_type": "display_data"
    },
    {
     "data": {
      "image/png": "[encoded data removed]",
      "text/plain": [
       "<Figure size 792x576 with 1 Axes>"
      ]
     },
     "metadata": {
      "needs_background": "light"
     },
     "output_type": "display_data"
    }
   ],
   "source": [
    "febshort = allportFeb[['End Month', 'Short Port', 'S&P']]\n",
    "febshort.set_index('End Month',inplace=True)\n",
    "\n",
    "fig = plt.figure() # initiate the figure environment\n",
    "ax = febshort.plot.bar(figsize=(11,8), color='bk', label = True)\n",
    "plt.axhline(y= 0 , color='k', linestyle='-.', alpha=.5)\n",
    "plt.axhline(y= 0.0489 , color='b', linestyle='--', alpha=.5, label = 'Short Port Avg')\n",
    "plt.axhline(y= 0.0142 , color='k', linestyle='--', alpha=.5, label = 'S&P Avg')\n",
    "plt.ylabel('Returns %')\n",
    "plt.xlabel('Closing Date of each Portfolio')\n",
    "plt.title('Excluding Jan Short Portfolio Return Vs. S&P Index Returns')\n",
    "plt.legend()\n",
    "vals = ax.get_yticks()\n",
    "ax.set_yticklabels(['{:,.2%}'.format(x) for x in vals])"
   ]
  },
  {
   "cell_type": "code",
   "execution_count": 31,
   "metadata": {},
   "outputs": [
    {
     "data": {
      "text/plain": [
       "[Text(0, 0, '-6.00%'),\n",
       " Text(0, 0, '-4.00%'),\n",
       " Text(0, 0, '-2.00%'),\n",
       " Text(0, 0, '0.00%'),\n",
       " Text(0, 0, '2.00%'),\n",
       " Text(0, 0, '4.00%'),\n",
       " Text(0, 0, '6.00%'),\n",
       " Text(0, 0, '8.00%')]"
      ]
     },
     "execution_count": 31,
     "metadata": {},
     "output_type": "execute_result"
    },
    {
     "data": {
      "text/plain": [
       "<Figure size 432x288 with 0 Axes>"
      ]
     },
     "metadata": {},
     "output_type": "display_data"
    },
    {
     "data": {
      "image/png": "[encoded data removed]",
      "text/plain": [
       "<Figure size 792x576 with 1 Axes>"
      ]
     },
     "metadata": {
      "needs_background": "light"
     },
     "output_type": "display_data"
    }
   ],
   "source": [
    "Febcombined = allportFeb[['End Month', 'Total Port', 'S&P']]\n",
    "Febcombined.set_index('End Month',inplace=True)\n",
    "\n",
    "fig = plt.figure() # initiate the figure environment\n",
    "\n",
    "ax = Febcombined.plot.bar(figsize=(11,8), color = 'rk')\n",
    "plt.axhline(y= 0 , color='k', linestyle='-.', alpha=.5)\n",
    "plt.axhline(y= 0.0239 , color='r', linestyle='--', alpha=.5, label = 'Total Port Avg')\n",
    "plt.axhline(y= 0.0142 , color='k', linestyle='--', alpha=.5, label = 'S&P Avg')\n",
    "plt.ylabel('Returns %')\n",
    "plt.xlabel('Closing Date of each Portfolio')\n",
    "plt.title('Excluding Jan Combined Portfolio Return Vs. S&P Index Returns')\n",
    "plt.legend()\n",
    "vals = ax.get_yticks()\n",
    "ax.set_yticklabels(['{:,.2%}'.format(x) for x in vals])"
   ]
  },
  {
   "cell_type": "markdown",
   "metadata": {},
   "source": [
    "## Jan vs no Jan Performance"
   ]
  },
  {
   "cell_type": "code",
   "execution_count": 26,
   "metadata": {},
   "outputs": [
    {
     "data": {
      "text/plain": [
       "[Text(0, 0, '0.00%'),\n",
       " Text(0, 0, '0.50%'),\n",
       " Text(0, 0, '1.00%'),\n",
       " Text(0, 0, '1.50%'),\n",
       " Text(0, 0, '2.00%'),\n",
       " Text(0, 0, '2.50%')]"
      ]
     },
     "execution_count": 26,
     "metadata": {},
     "output_type": "execute_result"
    },
    {
     "data": {
      "image/png": "[encoded data removed]",
      "text/plain": [
       "<Figure size 792x576 with 1 Axes>"
      ]
     },
     "metadata": {
      "needs_background": "light"
     },
     "output_type": "display_data"
    }
   ],
   "source": [
    "ax = injan.plot.bar(figsize=(11,8), color = 'gbrk')\n",
    "\n",
    "plt.ylabel('Returns %')\n",
    "plt.xlabel('Types of Portfolios')\n",
    "plt.title('Avg Portfolio Performance')\n",
    "vals = ax.get_yticks()\n",
    "ax.set_yticklabels(['{:,.2%}'.format(x) for x in vals])"
   ]
  },
  {
   "cell_type": "code",
   "execution_count": 28,
   "metadata": {},
   "outputs": [
    {
     "data": {
      "text/plain": [
       "[Text(0, 0, '-1.00%'),\n",
       " Text(0, 0, '0.00%'),\n",
       " Text(0, 0, '1.00%'),\n",
       " Text(0, 0, '2.00%'),\n",
       " Text(0, 0, '3.00%'),\n",
       " Text(0, 0, '4.00%'),\n",
       " Text(0, 0, '5.00%'),\n",
       " Text(0, 0, '6.00%')]"
      ]
     },
     "execution_count": 28,
     "metadata": {},
     "output_type": "execute_result"
    },
    {
     "data": {
      "image/png": "[encoded data removed]",
      "text/plain": [
       "<Figure size 792x576 with 1 Axes>"
      ]
     },
     "metadata": {
      "needs_background": "light"
     },
     "output_type": "display_data"
    }
   ],
   "source": [
    "ax = exjan.plot.bar(figsize=(11,8), color = 'gbrk')\n",
    "plt.ylabel('Returns %')\n",
    "plt.xlabel('Types of Portfolios')\n",
    "plt.title('Ex Jan Avg Portfolio Performance')\n",
    "vals = ax.get_yticks()\n",
    "ax.set_yticklabels(['{:,.2%}'.format(x) for x in vals])"
   ]
  }
 ],
 "metadata": {
  "kernelspec": {
   "display_name": "Python 3",
   "language": "python",
   "name": "python3"
  },
  "language_info": {
   "codemirror_mode": {
    "name": "ipython",
    "version": 3
   },
   "file_extension": ".py",
   "mimetype": "text/x-python",
   "name": "python",
   "nbconvert_exporter": "python",
   "pygments_lexer": "ipython3",
   "version": "3.7.3"
  }
 },
 "nbformat": 4,
 "nbformat_minor": 2
}
